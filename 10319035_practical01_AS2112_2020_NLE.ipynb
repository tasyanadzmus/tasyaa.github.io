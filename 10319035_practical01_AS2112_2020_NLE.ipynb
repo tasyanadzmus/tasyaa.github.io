{
  "nbformat": 4,
  "nbformat_minor": 0,
  "metadata": {
    "colab": {
      "name": "10319035_practical01_AS2112_2020_NLE.ipynb",
      "provenance": [],
      "collapsed_sections": []
    },
    "kernelspec": {
      "display_name": "Python 3",
      "language": "python",
      "name": "python3"
    },
    "language_info": {
      "codemirror_mode": {
        "name": "ipython",
        "version": 3
      },
      "file_extension": ".py",
      "mimetype": "text/x-python",
      "name": "python",
      "nbconvert_exporter": "python",
      "pygments_lexer": "ipython3",
      "version": "3.7.6"
    }
  },
  "cells": [
    {
      "cell_type": "markdown",
      "metadata": {
        "colab_type": "text",
        "id": "gPkGzuTPcf7Q"
      },
      "source": [
        "-- (DOUBLE CLICK BARISKU INI, DAN HAPUS BARIS INI SETELAHNYA. CLICK DI BLOK LAIN UNTUK KELUAR DARI BLOK INI) --\n",
        "# PRAKTIKUM - 1 AS2112 Astronomi Komputasi\n",
        "\n",
        "***Selasa, 15 September 2020***\n",
        "\n",
        "*Tasya Nadzmus Soraya* \n",
        "\n",
        "NIM: 10319035 \n",
        "\n",
        "---\n",
        "\n",
        "## Solusi Numerik Persamaan Tak-linear: Perhitungan Vernal atau Autumnal Equinox\n",
        "\n",
        "Persamaan yang dapat memodelkan perubahan deklinasi Matahari dalam setahun (diukur dari ekuator langit) adalah\n",
        "\n",
        "$$\n",
        "\\delta(\\beta) = \\frac{180}{\\pi} \\left\\{ 0.006918 + 0.070257 \\sin \\beta + 0.000907 \\sin (2\\beta) + 0.00148 \\sin (3\\beta) - 0.399912 \\cos \\beta - 0.006758 \\cos (2\\beta) - 0.002697 \\cos (3\\beta) \\right\\}\n",
        "$$\n",
        "\n",
        "dimana\n",
        "\n",
        "$$\n",
        "\\beta = \\frac{2\\pi J}{365}\n",
        "$$\n",
        "\n",
        "adalah *sudut tahun* (*year angle*) dan $J$ adalah *nomor hari* dalam satu tahun Gregorian (normal/kabisat) yang biasa digunakan saat ini. $J=0$ untuk 1 Januari dan berakhir di $J=364$ atau $J=365$. Akan tetapi perlu dicatat bahwa nilai $J$ ini **tidak harus bernilai bilangan bulat**. Gambar di bawah ini adalah kurva yang menjelaskan **persamaan untuk $\\delta$ sebagai fungsi dari $J$**.\n",
        "\n",
        "![deklinasi Matahari setahun](https://drive.google.com/uc?export=view&id=1EXJG8tT5xYyFhFmx7kSpumR3OWCZaVlE)\n",
        "\n",
        "### PENJELASAN TUGAS\n",
        "\n",
        "1. *Buatlah salinan/backup dari file ini. File yang Anda terima ini **adalah juga template file laporan praktikum** yang dapat Anda sunting sesuai dengan kebutuhan praktikum.*\n",
        "2. *Meskipun praktikum dilakukan secara daring, Anda diminta membiasakan diri untuk tetap menjunjung tinggi integritas akademik dan memperhatikan Hak atas Kekayaan Intelektual (HaKI), termasuk dalam mengutip sumber-sumber. File notebook ini saya beri label [copyleft](https://en.wikipedia.org/wiki/Copyleft), sehingga, dalam perspektif hukum, Anda punya sejumlah keleluasaan. Tentang prinsip kebebasan untuk copyleft, silakan baca secara cepat tautan tersebut di Wikipedia.*\n",
        "3. *Kode python di bawah naskah ini masih diperuntukkan bagi metode bisection. Anda dapat mencoba dulu dengan metode bisection ini secara cepat (hanya dengan mengganti definisi fungsi dan memilih $x_l$ dan $x_u$ yang sesuai) untuk mencari solusi $\\delta = 0$. Saat nilai $\\delta=0$, Matahari berada pada titik potong lingkaran ekuator dan ekliptika. Saat inilah yang disebut sebagai equinox (Latin, semakna dengan equal night), sehingga panjang siang dan malam di sekitar tanggal tersebut dirasakan sama.* \n",
        "4. *Dengan menggunakan metode **Newton-Raphson**, carilah solusi dari $\\delta = 0$ berupa bilangan-bilangan riil untuk nilai $\\beta$ dan $J$. Metode ini mungkin berhasil, mungkin pula gagal diterapkan. Tetapi yang dinilai adalah menunjukkan keberhasilan atau kegagalan metode Newton-Raphson ini dengan kode python yang benar/baik. Selain itu, Anda sudah punya referensi solusi dengan metode lain yang sudah Anda lakukan, yaitu metode bisection (bagi dua).*"
      ]
    },
    {
      "cell_type": "code",
      "metadata": {
        "colab_type": "code",
        "id": "ELofiTH3bPEU",
        "colab": {}
      },
      "source": [
        "'''\n",
        "silakan sunting, termasuk ubah nama,\n",
        "(copyleft) 2020, Muhamad Irfan Hakim, Numerical solution of non-linear equation using newton-raphson method \n",
        "'''\n",
        "\n",
        "# for some function call, we need math module\n",
        "from math import *"
      ],
      "execution_count": 175,
      "outputs": []
    },
    {
      "cell_type": "code",
      "metadata": {
        "colab_type": "code",
        "id": "RfZhnIAmbW-9",
        "colab": {}
      },
      "source": [
        "def f(xi):\n",
        "    '''\n",
        "    A non-linear function\n",
        "    '''\n",
        "    return 180 * (0.006918 + 0.070257 * sin(xi) + 0.000907 * sin(2*xi) \\\n",
        "                  + 0.00148 * sin(3*xi) - 0.399912 * cos(xi) \\\n",
        "                  - 0.006758 * cos(2*xi) - 0.002697 * cos(3*xi))/pi"
      ],
      "execution_count": 176,
      "outputs": []
    },
    {
      "cell_type": "code",
      "metadata": {
        "colab_type": "code",
        "id": "PmO3M4bVAPci",
        "colab": {}
      },
      "source": [
        "# tanda \"#\" sebagai awal baris-baris komentar di blok ini mungkin perlu dihapus \n",
        "# jika metode yang digunakan adalah Newton-Raphson\n",
        "\n",
        "def df(xi):\n",
        "#   '''\n",
        "#   First derivative of the function\n",
        "#   '''\n",
        "   return 180 * (0.070257 * cos(xi) + 2 * 0.000907 * cos(2*xi) \\\n",
        "                 + 3 * 0.00148 * cos(3*xi) + 0.399912 * sin(xi) \\\n",
        "                 + 2 * 0.006758 * sin(2*xi) + 3 * 0.002697 * sin(3*xi))/pi"
      ],
      "execution_count": 177,
      "outputs": []
    },
    {
      "cell_type": "code",
      "metadata": {
        "colab_type": "code",
        "id": "SqVa1FExbcMg",
        "colab": {}
      },
      "source": [
        "# for very first implementation attempt, it is recommended that input values are\n",
        "# written down in the code, in this program: absolute value of relative \n",
        "# approximate error, maximum iterations, xlower, and xupper\n",
        "# the first two values are needed to control computation flow and may need to \n",
        "# adjust\n",
        "\n",
        "epsTol  = 1E-10\n",
        "iterMax = 1000\n",
        "\n",
        "#################################\n",
        "# HERE COMES THE NEWTON RAPHSON METHODE\n",
        "#################################\n",
        "xi = 2.0\n",
        "\n"
      ],
      "execution_count": 178,
      "outputs": []
    },
    {
      "cell_type": "code",
      "metadata": {
        "colab_type": "code",
        "id": "_oxOj96kbvWi",
        "colab": {}
      },
      "source": [
        "# initial value of epsloop = 1E+6 is just a trick to make sure that computation \n",
        "# will proceed, but actually we don't have it\n",
        "\n",
        "iter    = 1\n",
        "epsloop = 1E+6"
      ],
      "execution_count": 179,
      "outputs": []
    },
    {
      "cell_type": "code",
      "metadata": {
        "colab_type": "code",
        "id": "MXfPdAoub3VS",
        "colab": {
          "base_uri": "https://localhost:8080/",
          "height": 255
        },
        "outputId": "5db1ae0f-9f98-4665-aac7-c140a3e9963c"
      },
      "source": [
        "# table preparation and first calculation\n",
        "# \"\\t\" is for tab\n",
        "# \".8f\", \"+.8f\", and \".6E\" are numerical format specifiers\n",
        "\n",
        "print(f'-----------------------------------------------------------')\n",
        "print(f'iteration\\txi\\t\\teps\\t\\tf(xi)')\n",
        "print(f'-----------------------------------------------------------')\n",
        "print(f'{iter}\\t\\t{xi:.8f}\\t--\\t\\t{f(xi):+.8f}')\n",
        "\n",
        "# we are IN LOOP ONLY IF BOTH \"epsloop > epsTol\" AND \"iter < iterMax\" ARE TRUE\n",
        "#\n",
        "#   >> QUIT from the loop if epsloop > epsTol == FALSE, which is epsloop less \n",
        "#                                                       than or equal epsTol, or\n",
        "#   >> QUIT from the loop if iter < iterMax == FALSE, which is iter greater than\n",
        "#                                                     or equal iterMax\n",
        "\n",
        "# try to change \"and\" with \"or\"\n",
        "while epsloop > epsTol and iter < iterMax:\n",
        "    xi0  = xi\n",
        "    iter = iter + 1\n",
        "    \n",
        "    xi = xi - (f(xi)/df(xi))\n",
        "    epsloop = 100*abs((xi - xi0)/xi)\n",
        "  \n",
        "    print(f'{iter}\\t\\t{xi:.8f}\\t{epsloop:.6E}\\t{f(xi):+.8f}')\n",
        "   \n",
        "print(f'-----------------------------------------------------------')\n",
        "print(f'iteration\\txi\\t\\teps\\t\\tf(xi)')\n",
        "print(f'-----------------------------------------------------------')\n",
        "J = 0.5*365*xi/pi\n",
        "print(f'SOLUTION: J = {J:.8f}, while J = 0 is January 1')\n",
        "print('DONE.')"
      ],
      "execution_count": 180,
      "outputs": [
        {
          "output_type": "stream",
          "text": [
            "-----------------------------------------------------------\n",
            "iteration\txi\t\teps\t\tf(xi)\n",
            "-----------------------------------------------------------\n",
            "1\t\t2.00000000\t--\t\t+13.63366896\n",
            "2\t\t1.26781502\t5.775172E+01\t-2.18046896\n",
            "3\t\t1.36286306\t6.974144E+00\t+0.00155141\n",
            "4\t\t1.36279544\t4.961739E-03\t-0.00000000\n",
            "5\t\t1.36279544\t6.593597E-09\t+0.00000000\n",
            "6\t\t1.36279544\t0.000000E+00\t+0.00000000\n",
            "-----------------------------------------------------------\n",
            "iteration\txi\t\teps\t\tf(xi)\n",
            "-----------------------------------------------------------\n",
            "SOLUTION: J = 79.16690517, while J = 0 is January 1\n",
            "DONE.\n"
          ],
          "name": "stdout"
        }
      ]
    }
  ]
}