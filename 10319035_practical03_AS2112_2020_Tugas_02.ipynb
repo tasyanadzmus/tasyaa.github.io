{
  "nbformat": 4,
  "nbformat_minor": 0,
  "metadata": {
    "colab": {
      "name": "10319035_practical03_AS2112_2020_Tugas 02.ipynb",
      "provenance": [],
      "collapsed_sections": []
    },
    "kernelspec": {
      "name": "python3",
      "display_name": "Python 3"
    }
  },
  "cells": [
    {
      "cell_type": "code",
      "metadata": {
        "id": "m1ZrO2iILmNN"
      },
      "source": [
        "#import modul yang diperlukan \n",
        "\n",
        "import numpy as np\n",
        "import scipy.interpolate\n",
        "import pylab"
      ],
      "execution_count": null,
      "outputs": []
    },
    {
      "cell_type": "code",
      "metadata": {
        "id": "OPQb8WawNFt9"
      },
      "source": [
        "#Input data dapat ditanam di kode python, atau interaktif, atau baca dari file.\n",
        "#Berikut ini merupakan contoh dari pembacaan file worksheet dalam format file teks CSV\n",
        "#yang berisi dua kolom data dengan memanfaatkan fungsi di numpy\n",
        "\n",
        "#mycsv harus diupload agar code bisa dieksekusi\n",
        "\n",
        "myfile = open(\"mycsv.csv\", \"r\")\n",
        "data = np.loadtxt(myfile, delimiter=\";\", skiprows=1) # skip baris pertama (ke-1) pada data\n",
        "for j in range(len(data)):\n",
        "  x = data[:, 0]\n",
        "  y = data[:, 1]\n",
        "myfile.close()"
      ],
      "execution_count": null,
      "outputs": []
    },
    {
      "cell_type": "code",
      "metadata": {
        "id": "XSBnxZfyNHGx"
      },
      "source": [
        "#Definisikan titik data yang akan di-interpolasi\n",
        "#Gunakan finer and regular mesh\n",
        "n = 10\n",
        "xfine = np.linspace(x[0], x[len(data) - 1], n*100) #membuat 1000 titik data baru dalam rentang data x"
      ],
      "execution_count": null,
      "outputs": []
    },
    {
      "cell_type": "code",
      "metadata": {
        "id": "BKceb-4mNfPI",
        "outputId": "c227375b-5baf-464d-d72a-b28755490c82",
        "colab": {
          "base_uri": "https://localhost:8080/",
          "height": 279
        }
      },
      "source": [
        "# interpolasi dengan fungsi konstan atau polinom pangkat nol (p=0)\n",
        "y0 = scipy.interpolate.interp1d(x, y, kind = 'nearest')\n",
        "y0(xfine)\n",
        "# interpolasi dengan fungsi linear (p=1)\n",
        "y1 = scipy.interpolate.interp1d(x, y, kind = 'linear')\n",
        "y1(xfine)\n",
        "#interpolasi dengan fungsi kuadratik (p=2)\n",
        "y2 = scipy.interpolate.interp1d(x, y, kind = 'quadratic')\n",
        "y2(xfine)\n",
        "#interpolasi dengan fungsi kubik (p=3)\n",
        "y3 = scipy.interpolate.interp1d(x, y, kind = 'cubic')\n",
        "y3(xfine)\n",
        "# Plot data dan hasil interpolasi (y0, y1, y2, dan y3)\n",
        "pylab.plot(x, y, 'o', label = 'data point')\n",
        "pylab.plot(xfine, y0(xfine), label = 'constant')\n",
        "pylab.plot(xfine, y1(xfine), label = 'linear')\n",
        "pylab.plot(xfine, y2(xfine), label = 'quadratic')\n",
        "pylab.plot(xfine, y3(xfine), label = 'cubic')\n",
        "pylab.legend()\n",
        "pylab.xlabel('x')\n",
        "pylab.ylabel('y')\n",
        "#pylab.savefig(’interpolate.pdf’)\n",
        "pylab.show()"
      ],
      "execution_count": null,
      "outputs": [
        {
          "output_type": "display_data",
          "data": {
            "image/png": "[encoded data removed]",
            "text/plain": [
              "<Figure size 432x288 with 1 Axes>"
            ]
          },
          "metadata": {
            "tags": [],
            "needs_background": "light"
          }
        }
      ]
    },
    {
      "cell_type": "code",
      "metadata": {
        "id": "JO4DqFYtO-Iw",
        "outputId": "54d867c3-a1a2-41f2-d07b-ba741b4565e7",
        "colab": {
          "base_uri": "https://localhost:8080/",
          "height": 68
        }
      },
      "source": [
        "#mencari nilai y saat x dengan interpolasi linear dimana user bisa memasukkan nilai x sendiri\n",
        "\n",
        "print(\"Mencari nilai Y pada Interpolasi Linear\")\n",
        "xt = float(input(\"Masukkan nilai X yang diinginkan: \"))\n",
        "i = 0\n",
        "\n",
        "if xt < x[0] or xt > x[5]:\n",
        "  print(\"nilai X berada di luar range data\") \n",
        "else:\n",
        "  while i+1 < xt:\n",
        "    i += 1\n",
        "\n",
        "  x0 = x[i]\n",
        "  y0 = y[i]\n",
        "  x1 = x[i+1]\n",
        "  y1 = y[i+1]\n",
        "\n",
        "  b0 = y0\n",
        "  b1 = (y1-y0)/(x1-x0)\n",
        "\n",
        "  xnew1 = xt\n",
        "  ynew1 = b0 + b1*(xnew1-x0)\n",
        "  print(\"Maka nilai Y untuk X yang dicari adalah\" + str(ynew1))"
      ],
      "execution_count": null,
      "outputs": [
        {
          "output_type": "stream",
          "text": [
            "Mencari nilai Y pada Interpolasi Linear\n",
            "Masukkan nilai X yang diinginkan: 2.6\n",
            "Maka nilai Y untuk X yang dicari adalah0.41999999999999993\n"
          ],
          "name": "stdout"
        }
      ]
    },
    {
      "cell_type": "code",
      "metadata": {
        "id": "0lt2QDq1NjTx",
        "outputId": "a6d4ee90-8e8b-4c04-e2de-1e838ca5a76a",
        "colab": {
          "base_uri": "https://localhost:8080/",
          "height": 51
        }
      },
      "source": [
        "'''\n",
        "# metode manual\n",
        "# asumsi kita mencari nilai y saat x = 2.6\n",
        "# interpolasi linear\n",
        "x0 = x[2]\n",
        "y0 = y[2]\n",
        "x1 = x[3]\n",
        "y1 = y[3]\n",
        "\n",
        "b0 = y0\n",
        "b1 = (y1-y0)/(x1-x0)\n",
        "print(b1)\n",
        "\n",
        "xnew1 = 2.6\n",
        "ynew1 = b0+b1*(xnew1-x0)\n",
        "print(ynew1)\n",
        "'''"
      ],
      "execution_count": null,
      "outputs": [
        {
          "output_type": "stream",
          "text": [
            "-0.8\n",
            "0.41999999999999993\n"
          ],
          "name": "stdout"
        }
      ]
    },
    {
      "cell_type": "code",
      "metadata": {
        "id": "2ycRQWNLVUb-",
        "outputId": "82ae9141-3a38-4f84-b011-ed49c178e2fc",
        "colab": {
          "base_uri": "https://localhost:8080/",
          "height": 68
        }
      },
      "source": [
        "#mencari nilai y saat x dengan interpolasi kuadratik dimana user bisa memasukkan nilai x sendiri\n",
        "\n",
        "print(\"Mencari nilai Y pada Interpolasi Kuadratik\")\n",
        "xt = float(input(\"Masukkan nilai X yang diinginkan: \"))\n",
        "i = 0\n",
        "\n",
        "if xt < x[0] or xt > x[5]:\n",
        "  print(\"nilai X berada di luar range data\")\n",
        "\n",
        "elif xt > x[0] and xt < x[4]:\n",
        "  while i+1 < xt:\n",
        "    i += 1\n",
        "\n",
        "  x0 = x[i]\n",
        "  y0 = y[i]\n",
        "  x1 = x[i+1]\n",
        "  y1 = y[i+1]\n",
        "  x2 = x[i+2]\n",
        "  y2 = y[i+2]\n",
        "\n",
        "  b0 = y0\n",
        "  b1 = (y1-y0)/(x1-x0)\n",
        "  b2 = ((y2-y1)/(x2-x1)-(y1-y0)/(x1-x0))/(x2-x0)\n",
        "\n",
        "  xnew2 = xt\n",
        "  ynew2 = b0+b1*(xnew2-x0)+b2*(xnew2-x0)*(xnew2-x1)\n",
        "  print(\"Maka nilai Y untuk X yang dicari adalah\" + str(ynew2))\n",
        "\n",
        "else:\n",
        "  while i+1 < xt:\n",
        "    i += 1\n",
        "\n",
        "  x0 = x[i-1]\n",
        "  y0 = y[i-1]\n",
        "  x1 = x[i]\n",
        "  y1 = y[i]\n",
        "  x2 = x[i+1]\n",
        "  y2 = y[i+1]\n",
        "\n",
        "  b0 = y0\n",
        "  b1 = (y1-y0)/(x1-x0)\n",
        "  b2 = ((y2-y1)/(x2-x1)-(y1-y0)/(x1-x0))/(x2-x0)\n",
        "\n",
        "  xnew2 = xt\n",
        "  ynew2 = b0+b1*(xnew2-x0)+b2*(xnew2-x0)*(xnew2-x1)\n",
        "  print(\"Maka nilai Y untuk X yang dicari adalah \" + str(ynew2))\n",
        " "
      ],
      "execution_count": null,
      "outputs": [
        {
          "output_type": "stream",
          "text": [
            "Mencari nilai Y pada Interpolasi Kuadratik\n",
            "Masukkan nilai X yang diinginkan: 2.6\n",
            "Maka nilai Y untuk X yang dicari adalah0.43199999999999994\n"
          ],
          "name": "stdout"
        }
      ]
    },
    {
      "cell_type": "code",
      "metadata": {
        "id": "Ch-d9jHiNkmH",
        "outputId": "0f39b133-ca35-419c-984e-7c58555cf562",
        "colab": {
          "base_uri": "https://localhost:8080/",
          "height": 34
        }
      },
      "source": [
        "'''\n",
        "# METODE MANUAL\n",
        "# asumsi kita mencari nilai y saat x = 2.6\n",
        "# interpolasi kuadrat\n",
        "x0 = x[2]\n",
        "y0 = y[2]\n",
        "x1 = x[3]\n",
        "y1 = y[3]\n",
        "x2 = x[4]\n",
        "y2 = y[4]\n",
        "\n",
        "b0 = y0\n",
        "b1 = (y1-y0)/(x1-x0)\n",
        "b2 = ((y2-y1)/(x2-x1)-(y1-y0)/(x1-x0))/(x2-x0)\n",
        "\n",
        "xnew2 = 2.6\n",
        "ynew2 = b0+b1*(xnew2-x0)+b2*(xnew2-x0)*(xnew2-x1)\n",
        "print(ynew2)\n",
        "'''"
      ],
      "execution_count": null,
      "outputs": [
        {
          "output_type": "stream",
          "text": [
            "0.43199999999999994\n"
          ],
          "name": "stdout"
        }
      ]
    },
    {
      "cell_type": "code",
      "metadata": {
        "id": "zVTgi2nJ4BbL",
        "outputId": "9ae1dc52-4665-445f-d12e-e93b84018904",
        "colab": {
          "base_uri": "https://localhost:8080/",
          "height": 68
        }
      },
      "source": [
        "#mencari nilai y saat x dengan interpolasi kubik dimana user bisa memasukkan nilai x sendiri\n",
        "\n",
        "print(\"Mencari nilai Y pada Interpolasi Kubik\")\n",
        "xt = float(input(\"Masukkan nilai X yang diinginkan: \"))\n",
        "i = 0\n",
        "\n",
        "if xt < x[0] or xt > x[5]:\n",
        "  print(\"nilai X berada di luar range data\")\n",
        "\n",
        "elif xt > x[0] and xt < x[3]:\n",
        "  while i+1 < xt:\n",
        "    i += 1\n",
        "\n",
        "  x0 = x[i]\n",
        "  y0 = y[i]\n",
        "  x1 = x[i+1]\n",
        "  y1 = y[i+1]\n",
        "  x2 = x[i+2]\n",
        "  y2 = y[i+2]\n",
        "  x3 = x[i+3]\n",
        "  y3 = y[i+3]\n",
        "\n",
        "  b0 = y0\n",
        "  b1 = (y1-y0)/(x1-x0)\n",
        "  b2 = ((y2-y1)/(x2-x1)-(y1-y0)/(x1-x0))/(x2-x0)\n",
        "  b3 = ((((y3-y2)/(x3-x2)-(y2-y1)/(x2-x1))/(x3-x1))-(((y2-y1)/(x2-x1)-(y1-y0)/(x1-x0))/(x2-x0)))/(x3-x0)\n",
        "\n",
        "\n",
        "  xnew3 = xt\n",
        "  ynew3 = b0+b1*(xnew3-x0)+b2*(xnew3-x0)*(xnew3-x1) + b3*(xnew3-x0)*(xnew3-x1)*(xnew3-x2)\n",
        "  print(\"Maka nilai Y untuk X yang dicari adalah\" + str(ynew3))\n",
        "\n",
        "else:\n",
        "  while i+1 < xt:\n",
        "    i += 1\n",
        "\n",
        "  x0 = x[i-2]\n",
        "  y0 = y[i-2]\n",
        "  x1 = x[i-1]\n",
        "  y1 = y[i-1]\n",
        "  x2 = x[i]\n",
        "  y2 = y[i]\n",
        "  x3 = x[i+1]\n",
        "  y3 = y[i+1]\n",
        "\n",
        "  b0 = y0\n",
        "  b1 = (y1-y0)/(x1-x0)\n",
        "  b2 = ((y2-y1)/(x2-x1)-(y1-y0)/(x1-x0))/(x2-x0)\n",
        "  b3 = ((((y3-y2)/(x3-x2)-(y2-y1)/(x2-x1))/(x3-x1))-(((y2-y1)/(x2-x1)-(y1-y0)/(x1-x0))/(x2-x0)))/(x3-x0)\n",
        "\n",
        "\n",
        "  xnew3 = xt\n",
        "  ynew3 = b0+b1*(xnew3-x0)+b2*(xnew3-x0)*(xnew3-x1) + b3*(xnew3-x0)*(xnew3-x1)*(xnew3-x2)\n",
        "  print(\"Maka nilai Y untuk X yang dicari adalah\" + str(ynew3))"
      ],
      "execution_count": null,
      "outputs": [
        {
          "output_type": "stream",
          "text": [
            "Mencari nilai Y pada Interpolasi Kubik\n",
            "Masukkan nilai X yang diinginkan: 2.6\n",
            "Maka nilai Y untuk X yang dicari adalah0.47679999999999995\n"
          ],
          "name": "stdout"
        }
      ]
    },
    {
      "cell_type": "code",
      "metadata": {
        "id": "cAP9_c5eNqkZ",
        "outputId": "59d89336-0471-4c74-9c57-d0fc84e6ed05",
        "colab": {
          "base_uri": "https://localhost:8080/",
          "height": 51
        }
      },
      "source": [
        "'''\n",
        "METODE MANUAL\n",
        "# asumsi kita mencari nilai y saat x = 2.6\n",
        "# interpolasi kubik\n",
        "x0 = x[1]\n",
        "y0 = y[1]\n",
        "x1 = x[2]\n",
        "y1 = y[2]\n",
        "x2 = x[3]\n",
        "y2 = y[3]\n",
        "x3 = x[4]\n",
        "y3 = y[4]\n",
        "\n",
        "b0 = y0\n",
        "b1 = (y1-y0)/(x1-x0)\n",
        "b2 = ((y2-y1)/(x2-x1)-(y1-y0)/(x1-x0))/(x2-x0)\n",
        "b3 = ((((y3-y2)/(x3-x2)-(y2-y1)/(x2-x1))/(x3-x1))-(((y2-y1)/(x2-x1)-(y1-y0)/(x1-x0))/(x2-x0)))/(x3-x0)\n",
        "print(b3)\n",
        "\n",
        "xnew3 = 2.6\n",
        "ynew3 = b0+b1*(xnew3-x0)+b2*(xnew3-x0)*(xnew3-x1) + b3*(xnew3-x0)*(xnew3-x1)*(xnew3-x2)\n",
        "print(ynew3)\n",
        "'''"
      ],
      "execution_count": null,
      "outputs": [
        {
          "output_type": "stream",
          "text": [
            "0.13333333333333333\n",
            "0.4767999999999998\n"
          ],
          "name": "stdout"
        }
      ]
    },
    {
      "cell_type": "code",
      "metadata": {
        "id": "8l4Jr_DvNwOs",
        "outputId": "c8802702-e5b9-4195-bcfa-939324cb992c",
        "colab": {
          "base_uri": "https://localhost:8080/",
          "height": 51
        }
      },
      "source": [
        "# epsilon kuadrat\n",
        "ea = abs((ynew2-ynew1)/ynew2)*100\n",
        "#epsilon kubik\n",
        "eb = abs((ynew3-ynew2)/ynew3)*100\n",
        "print(\"Nilai Multak Galat Nisbi Kuadratik adalah \"+str(ea))\n",
        "print(\"Nilai Multak Galat Nisbi Kubik adalah \"+str(eb))"
      ],
      "execution_count": null,
      "outputs": [
        {
          "output_type": "stream",
          "text": [
            "Nilai Multak Galat Nisbi Kuadratik adalah 2.777777777777781\n",
            "Nilai Multak Galat Nisbi Kubik adalah 9.39597315436242\n"
          ],
          "name": "stdout"
        }
      ]
    }
  ]
}